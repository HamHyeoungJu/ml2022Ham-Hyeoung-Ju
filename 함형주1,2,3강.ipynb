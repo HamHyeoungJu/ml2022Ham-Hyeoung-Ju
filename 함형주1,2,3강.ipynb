{
  "nbformat": 4,
  "nbformat_minor": 0,
  "metadata": {
    "colab": {
      "provenance": [],
      "collapsed_sections": [],
      "authorship_tag": "ABX9TyMZT0QNm1HWTIReYAehKlHn"
    },
    "kernelspec": {
      "name": "python3",
      "display_name": "Python 3"
    },
    "language_info": {
      "name": "python"
    }
  },
  "cells": [
    {
      "cell_type": "code",
      "execution_count": 1,
      "metadata": {
        "id": "5e1fcIPvCv_-"
      },
      "outputs": [],
      "source": [
        "def greet():\n",
        "    print(\"hello world\")"
      ]
    },
    {
      "cell_type": "code",
      "source": [
        "greet()"
      ],
      "metadata": {
        "colab": {
          "base_uri": "https://localhost:8080/"
        },
        "id": "3yb1zlMdEds4",
        "outputId": "1d2fc01a-936d-456a-d134-142cd60c21c8"
      },
      "execution_count": 2,
      "outputs": [
        {
          "output_type": "stream",
          "name": "stdout",
          "text": [
            "hello world\n"
          ]
        }
      ]
    },
    {
      "cell_type": "code",
      "source": [
        "def add(a,b):\n",
        "    c=a+b\n",
        "    return c"
      ],
      "metadata": {
        "id": "8vTIAFqBEhjC"
      },
      "execution_count": 3,
      "outputs": []
    },
    {
      "cell_type": "code",
      "source": [
        "add(3,3)"
      ],
      "metadata": {
        "colab": {
          "base_uri": "https://localhost:8080/"
        },
        "id": "HmgkGK3lEjQp",
        "outputId": "6088fb76-d38c-4261-ad50-ef383834efe0"
      },
      "execution_count": 4,
      "outputs": [
        {
          "output_type": "execute_result",
          "data": {
            "text/plain": [
              "6"
            ]
          },
          "metadata": {},
          "execution_count": 4
        }
      ]
    },
    {
      "cell_type": "code",
      "source": [
        "def greet2(name):\n",
        "    print('반갑습니다',name)\n",
        "    print(name, '님은 파이썬의 세계로 오셨습니다')"
      ],
      "metadata": {
        "id": "syeuP0yoFVxG"
      },
      "execution_count": 5,
      "outputs": []
    },
    {
      "cell_type": "code",
      "source": [
        "greet2('함형주')"
      ],
      "metadata": {
        "colab": {
          "base_uri": "https://localhost:8080/"
        },
        "id": "N09L6TFbFXzP",
        "outputId": "65c31be1-5d3c-4261-fe79-aa58fea3e3f5"
      },
      "execution_count": 6,
      "outputs": [
        {
          "output_type": "stream",
          "name": "stdout",
          "text": [
            "반갑습니다 함형주\n",
            "함형주 님은 파이썬의 세계로 오셨습니다\n"
          ]
        }
      ]
    },
    {
      "cell_type": "code",
      "source": [
        "def adder(num1,num2):\n",
        "    sum=num1+num2\n",
        "    print('덧셈결과:',num1+num2)"
      ],
      "metadata": {
        "id": "QgH3CGgCFatP"
      },
      "execution_count": 7,
      "outputs": []
    },
    {
      "cell_type": "code",
      "source": [
        "adder(6,8)"
      ],
      "metadata": {
        "colab": {
          "base_uri": "https://localhost:8080/"
        },
        "id": "pUx5EyXcFcc7",
        "outputId": "d484deeb-356f-4db8-dbb9-66da82ac8f89"
      },
      "execution_count": 8,
      "outputs": [
        {
          "output_type": "stream",
          "name": "stdout",
          "text": [
            "덧셈결과: 14\n"
          ]
        }
      ]
    },
    {
      "cell_type": "code",
      "source": [
        "def adder(num1,num2):\n",
        "    sum=num1+num2\n",
        "    return sum"
      ],
      "metadata": {
        "id": "KjCDMaOoFekR"
      },
      "execution_count": 9,
      "outputs": []
    },
    {
      "cell_type": "code",
      "source": [
        "result = adder(7,5)"
      ],
      "metadata": {
        "id": "q8lfy0GBFf3U"
      },
      "execution_count": 10,
      "outputs": []
    },
    {
      "cell_type": "code",
      "source": [
        "print(result)"
      ],
      "metadata": {
        "colab": {
          "base_uri": "https://localhost:8080/"
        },
        "id": "xvYVByraFiXL",
        "outputId": "7de15f03-52e8-45f0-ce00-730ad89cf773"
      },
      "execution_count": 11,
      "outputs": [
        {
          "output_type": "stream",
          "name": "stdout",
          "text": [
            "12\n"
          ]
        }
      ]
    },
    {
      "cell_type": "code",
      "source": [
        "max(2,3,4)"
      ],
      "metadata": {
        "colab": {
          "base_uri": "https://localhost:8080/"
        },
        "id": "6OROSyVyFj1q",
        "outputId": "e85c71c9-ac32-4d04-c727-160a76512a4d"
      },
      "execution_count": 12,
      "outputs": [
        {
          "output_type": "execute_result",
          "data": {
            "text/plain": [
              "4"
            ]
          },
          "metadata": {},
          "execution_count": 12
        }
      ]
    },
    {
      "cell_type": "code",
      "source": [
        "min(2,3,4,)"
      ],
      "metadata": {
        "colab": {
          "base_uri": "https://localhost:8080/"
        },
        "id": "BSr2Frl_Flj6",
        "outputId": "c574a543-1ca6-4551-a39e-092d9bc43e00"
      },
      "execution_count": 13,
      "outputs": [
        {
          "output_type": "execute_result",
          "data": {
            "text/plain": [
              "2"
            ]
          },
          "metadata": {},
          "execution_count": 13
        }
      ]
    },
    {
      "cell_type": "code",
      "source": [
        "round(3.51)"
      ],
      "metadata": {
        "colab": {
          "base_uri": "https://localhost:8080/"
        },
        "id": "VCJAC21SFmkH",
        "outputId": "0af3b14d-5f67-41bd-dc06-8a4675931167"
      },
      "execution_count": 14,
      "outputs": [
        {
          "output_type": "execute_result",
          "data": {
            "text/plain": [
              "4"
            ]
          },
          "metadata": {},
          "execution_count": 14
        }
      ]
    },
    {
      "cell_type": "code",
      "source": [
        "\n",
        "round(3.4)"
      ],
      "metadata": {
        "colab": {
          "base_uri": "https://localhost:8080/"
        },
        "id": "6LvPZjumFnkK",
        "outputId": "bc4258c4-0059-46e5-e08c-ae6dfe3b87e4"
      },
      "execution_count": 15,
      "outputs": [
        {
          "output_type": "execute_result",
          "data": {
            "text/plain": [
              "3"
            ]
          },
          "metadata": {},
          "execution_count": 15
        }
      ]
    },
    {
      "cell_type": "code",
      "source": [
        "round(3.1234,2)"
      ],
      "metadata": {
        "colab": {
          "base_uri": "https://localhost:8080/"
        },
        "id": "ORrs61XDFocC",
        "outputId": "5179ff1d-0309-4220-bcfd-116e68e8885d"
      },
      "execution_count": 16,
      "outputs": [
        {
          "output_type": "execute_result",
          "data": {
            "text/plain": [
              "3.12"
            ]
          },
          "metadata": {},
          "execution_count": 16
        }
      ]
    },
    {
      "cell_type": "code",
      "source": [
        "abs(-3)"
      ],
      "metadata": {
        "colab": {
          "base_uri": "https://localhost:8080/"
        },
        "id": "tWP7InjYFp3t",
        "outputId": "c17007bc-3e0d-4f73-d1d1-7ace9b7f6151"
      },
      "execution_count": 17,
      "outputs": [
        {
          "output_type": "execute_result",
          "data": {
            "text/plain": [
              "3"
            ]
          },
          "metadata": {},
          "execution_count": 17
        }
      ]
    },
    {
      "cell_type": "code",
      "source": [
        "\n",
        "pow(2,3)"
      ],
      "metadata": {
        "colab": {
          "base_uri": "https://localhost:8080/"
        },
        "id": "osN8GVHgFsdA",
        "outputId": "7aec8d71-28fe-4d00-bf21-44839e31d0ac"
      },
      "execution_count": 23,
      "outputs": [
        {
          "output_type": "execute_result",
          "data": {
            "text/plain": [
              "8"
            ]
          },
          "metadata": {},
          "execution_count": 23
        }
      ]
    },
    {
      "cell_type": "code",
      "source": [
        "result=eval(input(\"뭐든 넣어요\"))"
      ],
      "metadata": {
        "colab": {
          "base_uri": "https://localhost:8080/"
        },
        "id": "3U6Ii5ixG2c7",
        "outputId": "c21535f5-9fac-43b5-b3f4-f6652402ef78"
      },
      "execution_count": 24,
      "outputs": [
        {
          "name": "stdout",
          "output_type": "stream",
          "text": [
            "뭐든 넣어요  2-4*5+3\n"
          ]
        }
      ]
    },
    {
      "cell_type": "code",
      "source": [
        "result"
      ],
      "metadata": {
        "colab": {
          "base_uri": "https://localhost:8080/"
        },
        "id": "VJep9hpDG-nw",
        "outputId": "b5f264b9-bd78-46ae-8022-d106f6c96be8"
      },
      "execution_count": 25,
      "outputs": [
        {
          "output_type": "execute_result",
          "data": {
            "text/plain": [
              "-15"
            ]
          },
          "metadata": {},
          "execution_count": 25
        }
      ]
    },
    {
      "cell_type": "code",
      "source": [
        "def ret():\n",
        "    return 12"
      ],
      "metadata": {
        "id": "w0XTAE4XHBWp"
      },
      "execution_count": 26,
      "outputs": []
    },
    {
      "cell_type": "code",
      "source": [
        "result=eval(input(\"뭐든 넣어요:\"))"
      ],
      "metadata": {
        "colab": {
          "base_uri": "https://localhost:8080/"
        },
        "id": "xVX-bMv1HG-i",
        "outputId": "53c4ccab-ab18-49cc-c6a0-10dbe2613528"
      },
      "execution_count": 27,
      "outputs": [
        {
          "name": "stdout",
          "output_type": "stream",
          "text": [
            "뭐든 넣어요: ret()\n"
          ]
        }
      ]
    },
    {
      "cell_type": "code",
      "source": [
        "print(result)"
      ],
      "metadata": {
        "colab": {
          "base_uri": "https://localhost:8080/"
        },
        "id": "RTMP5_dvHH4V",
        "outputId": "ee8db78f-7e57-4da6-c2f2-34713fdb8f9b"
      },
      "execution_count": 28,
      "outputs": [
        {
          "output_type": "stream",
          "name": "stdout",
          "text": [
            "12\n"
          ]
        }
      ]
    },
    {
      "cell_type": "code",
      "source": [
        "def greet_three_times():\n",
        "    print('hi')\n",
        "    print('hi')\n",
        "    print('hi')"
      ],
      "metadata": {
        "id": "Xo6MBnzfHQoT"
      },
      "execution_count": 29,
      "outputs": []
    },
    {
      "cell_type": "code",
      "source": [
        "greet_three_times()"
      ],
      "metadata": {
        "colab": {
          "base_uri": "https://localhost:8080/"
        },
        "id": "Iekf0GytHYS-",
        "outputId": "878b6381-8716-4a23-bbbe-864a324f754d"
      },
      "execution_count": 30,
      "outputs": [
        {
          "output_type": "stream",
          "name": "stdout",
          "text": [
            "hi\n",
            "hi\n",
            "hi\n"
          ]
        }
      ]
    },
    {
      "cell_type": "code",
      "source": [
        "def greet_10(num):\n",
        "    if (num>0):\n",
        "      print('hi')\n",
        "      num=num-1\n",
        "      greet_10(num)"
      ],
      "metadata": {
        "id": "2YjH24OvHaCW"
      },
      "execution_count": 31,
      "outputs": []
    },
    {
      "cell_type": "code",
      "source": [
        "greet_10(3)"
      ],
      "metadata": {
        "colab": {
          "base_uri": "https://localhost:8080/"
        },
        "id": "I62PoqQRHbZ-",
        "outputId": "3e8d2a05-4bd8-4755-9e30-7327d333ef9d"
      },
      "execution_count": 32,
      "outputs": [
        {
          "output_type": "stream",
          "name": "stdout",
          "text": [
            "hi\n",
            "hi\n",
            "hi\n"
          ]
        }
      ]
    },
    {
      "cell_type": "code",
      "source": [
        "sum=0\n",
        "for i in range(1,11):\n",
        "  sum=sum+i"
      ],
      "metadata": {
        "id": "5UcdWGbaHdKz"
      },
      "execution_count": 33,
      "outputs": []
    },
    {
      "cell_type": "code",
      "source": [
        "import random"
      ],
      "metadata": {
        "id": "ojz-jeP_HeaR"
      },
      "execution_count": 34,
      "outputs": []
    },
    {
      "cell_type": "code",
      "source": [
        "NUMBER_OF_TRIALS = 5000000\n",
        "numberOfHits = 0"
      ],
      "metadata": {
        "id": "3FhABXtdHftW"
      },
      "execution_count": 35,
      "outputs": []
    },
    {
      "cell_type": "code",
      "source": [
        "for i in range(NUMBER_OF_TRIALS):\n",
        "    x = random.random() * 2 - 1\n",
        "    y = random.random() * 2 - 1\n",
        "\n",
        "    if x * x + y * y <= 1:\n",
        "        numberOfHits += 1"
      ],
      "metadata": {
        "id": "_Yfhm9U3HhPH"
      },
      "execution_count": 36,
      "outputs": []
    },
    {
      "cell_type": "code",
      "source": [
        "pi = 4 * numberOfHits / NUMBER_OF_TRIALS"
      ],
      "metadata": {
        "id": "w9wN2T9gHpMO"
      },
      "execution_count": 37,
      "outputs": []
    },
    {
      "cell_type": "code",
      "source": [
        "print(\"PI는\",pi, \"입니다.\")"
      ],
      "metadata": {
        "colab": {
          "base_uri": "https://localhost:8080/"
        },
        "id": "ZWXom315Hqmc",
        "outputId": "686c87a2-b573-47ec-f0af-8e6516f5936a"
      },
      "execution_count": 38,
      "outputs": [
        {
          "output_type": "stream",
          "name": "stdout",
          "text": [
            "PI는 3.1412352 입니다.\n"
          ]
        }
      ]
    },
    {
      "cell_type": "code",
      "source": [
        "import random"
      ],
      "metadata": {
        "id": "BYCqT6-dHsb5"
      },
      "execution_count": 39,
      "outputs": []
    },
    {
      "cell_type": "code",
      "source": [
        "NUMBER_OF_TRIALS = 5000000"
      ],
      "metadata": {
        "id": "oYEV0cnLHtoS"
      },
      "execution_count": 40,
      "outputs": []
    },
    {
      "cell_type": "code",
      "source": [
        "numberOfHits = 0"
      ],
      "metadata": {
        "id": "ew0htncGHu0-"
      },
      "execution_count": 41,
      "outputs": []
    },
    {
      "cell_type": "code",
      "source": [
        "i =0"
      ],
      "metadata": {
        "id": "7GswesBfHwgj"
      },
      "execution_count": 44,
      "outputs": []
    },
    {
      "cell_type": "code",
      "source": [
        "while (i<NUMBER_OF_TRIALS):\n",
        "    x = random.random() * 2 - 1\n",
        "    y = random.random() * 2 - 1\n",
        "\n",
        "    if x * x + y * y <= 1:\n",
        "        numberOfHits += 1\n",
        "\n",
        "    i=i+1"
      ],
      "metadata": {
        "id": "TzYIHJNRH1Ux"
      },
      "execution_count": 45,
      "outputs": []
    },
    {
      "cell_type": "code",
      "source": [
        "\n",
        "pi = 4 * numberOfHits / NUMBER_OF_TRIALS"
      ],
      "metadata": {
        "id": "dWDUlgBIH2wj"
      },
      "execution_count": 46,
      "outputs": []
    },
    {
      "cell_type": "code",
      "source": [
        "print(\"PI는\",pi,\"입니다.\")"
      ],
      "metadata": {
        "colab": {
          "base_uri": "https://localhost:8080/"
        },
        "id": "iSQahJmMH5Hj",
        "outputId": "cd1367de-f200-4b09-b43a-dcb631fc78db"
      },
      "execution_count": 47,
      "outputs": [
        {
          "output_type": "stream",
          "name": "stdout",
          "text": [
            "PI는 3.1414952 입니다.\n"
          ]
        }
      ]
    },
    {
      "cell_type": "code",
      "source": [
        "money=2000\n",
        "if money >= 3000:\n",
        "    print(\"택시를 타고 가라\")\n",
        "\n",
        "else:\n",
        "   print(\"걸어가라\")"
      ],
      "metadata": {
        "colab": {
          "base_uri": "https://localhost:8080/"
        },
        "id": "iUHWXcRfH6Bo",
        "outputId": "1143d086-b50c-4eb6-aa1d-efb931510cae"
      },
      "execution_count": 48,
      "outputs": [
        {
          "output_type": "stream",
          "name": "stdout",
          "text": [
            "걸어가라\n"
          ]
        }
      ]
    },
    {
      "cell_type": "code",
      "source": [
        "money = 2000\n",
        "card = True\n",
        "if money >= 3000 or card:\n",
        "    print(\"택시를 타고 가라\")\n",
        "\n",
        "else:\n",
        "   print(\"걸어가라\")"
      ],
      "metadata": {
        "colab": {
          "base_uri": "https://localhost:8080/"
        },
        "id": "JlzErdtIH7lH",
        "outputId": "ab307c7f-6a17-4591-ddc9-051c5b8f95c8"
      },
      "execution_count": 49,
      "outputs": [
        {
          "output_type": "stream",
          "name": "stdout",
          "text": [
            "택시를 타고 가라\n"
          ]
        }
      ]
    },
    {
      "cell_type": "code",
      "source": [
        "bool(True or True)"
      ],
      "metadata": {
        "colab": {
          "base_uri": "https://localhost:8080/"
        },
        "id": "wa9grzicH8ln",
        "outputId": "f96156ac-df7d-473f-f8a2-b5f8008e6880"
      },
      "execution_count": 50,
      "outputs": [
        {
          "output_type": "execute_result",
          "data": {
            "text/plain": [
              "True"
            ]
          },
          "metadata": {},
          "execution_count": 50
        }
      ]
    },
    {
      "cell_type": "code",
      "source": [
        "bool(True or False)"
      ],
      "metadata": {
        "colab": {
          "base_uri": "https://localhost:8080/"
        },
        "id": "ww74EdxbH-ar",
        "outputId": "84c39566-5250-41d9-dc8a-278df09ef838"
      },
      "execution_count": 51,
      "outputs": [
        {
          "output_type": "execute_result",
          "data": {
            "text/plain": [
              "True"
            ]
          },
          "metadata": {},
          "execution_count": 51
        }
      ]
    },
    {
      "cell_type": "code",
      "source": [
        "bool(False or False)"
      ],
      "metadata": {
        "colab": {
          "base_uri": "https://localhost:8080/"
        },
        "id": "BPAG-cBeH_MD",
        "outputId": "d53362b5-48bc-4314-8c00-ff60026b852b"
      },
      "execution_count": 52,
      "outputs": [
        {
          "output_type": "execute_result",
          "data": {
            "text/plain": [
              "False"
            ]
          },
          "metadata": {},
          "execution_count": 52
        }
      ]
    },
    {
      "cell_type": "code",
      "source": [
        "bool(not True)"
      ],
      "metadata": {
        "colab": {
          "base_uri": "https://localhost:8080/"
        },
        "id": "7uc55Y-LH_7D",
        "outputId": "96c0433b-0c09-4a0e-a254-bf93d530f9a2"
      },
      "execution_count": 53,
      "outputs": [
        {
          "output_type": "execute_result",
          "data": {
            "text/plain": [
              "False"
            ]
          },
          "metadata": {},
          "execution_count": 53
        }
      ]
    },
    {
      "cell_type": "code",
      "source": [
        "bool(not False)"
      ],
      "metadata": {
        "colab": {
          "base_uri": "https://localhost:8080/"
        },
        "id": "xNzvxMOcIA97",
        "outputId": "ab382120-da16-4075-9209-bb272fd82884"
      },
      "execution_count": 54,
      "outputs": [
        {
          "output_type": "execute_result",
          "data": {
            "text/plain": [
              "True"
            ]
          },
          "metadata": {},
          "execution_count": 54
        }
      ]
    },
    {
      "cell_type": "code",
      "source": [
        "bool(not (True or False))"
      ],
      "metadata": {
        "colab": {
          "base_uri": "https://localhost:8080/"
        },
        "id": "W4whdKbZIB4V",
        "outputId": "1e4bea78-b2d8-4537-ad0c-24530646fa21"
      },
      "execution_count": 55,
      "outputs": [
        {
          "output_type": "execute_result",
          "data": {
            "text/plain": [
              "False"
            ]
          },
          "metadata": {},
          "execution_count": 55
        }
      ]
    },
    {
      "cell_type": "code",
      "source": [
        "\n",
        "bool((not True) or False)"
      ],
      "metadata": {
        "colab": {
          "base_uri": "https://localhost:8080/"
        },
        "id": "KP08maaIIC3k",
        "outputId": "49551807-b2ec-436c-f3c3-6d5404616d57"
      },
      "execution_count": 56,
      "outputs": [
        {
          "output_type": "execute_result",
          "data": {
            "text/plain": [
              "False"
            ]
          },
          "metadata": {},
          "execution_count": 56
        }
      ]
    },
    {
      "cell_type": "code",
      "source": [
        "\n",
        "bool((not False) or False)"
      ],
      "metadata": {
        "colab": {
          "base_uri": "https://localhost:8080/"
        },
        "id": "_DINAvzDIDtc",
        "outputId": "036f3ec2-b62a-4f2e-8d2d-76a16f766dff"
      },
      "execution_count": 57,
      "outputs": [
        {
          "output_type": "execute_result",
          "data": {
            "text/plain": [
              "True"
            ]
          },
          "metadata": {},
          "execution_count": 57
        }
      ]
    },
    {
      "cell_type": "code",
      "source": [
        "bool((not False) or False)\n"
      ],
      "metadata": {
        "colab": {
          "base_uri": "https://localhost:8080/"
        },
        "id": "TUveYYstIElg",
        "outputId": "ff3964bc-1d61-4cea-f814-531d2a14aac7"
      },
      "execution_count": 58,
      "outputs": [
        {
          "output_type": "execute_result",
          "data": {
            "text/plain": [
              "True"
            ]
          },
          "metadata": {},
          "execution_count": 58
        }
      ]
    },
    {
      "cell_type": "code",
      "source": [
        "1 in [1,2,3]"
      ],
      "metadata": {
        "colab": {
          "base_uri": "https://localhost:8080/"
        },
        "id": "ylNGmjvkIFzN",
        "outputId": "6a965f31-448e-4e37-f8f6-46a6faab2200"
      },
      "execution_count": 59,
      "outputs": [
        {
          "output_type": "execute_result",
          "data": {
            "text/plain": [
              "True"
            ]
          },
          "metadata": {},
          "execution_count": 59
        }
      ]
    },
    {
      "cell_type": "code",
      "source": [
        "\n",
        "1 not in [1,2,3]"
      ],
      "metadata": {
        "colab": {
          "base_uri": "https://localhost:8080/"
        },
        "id": "-55JtlpKIG8c",
        "outputId": "f80e5ee8-d63e-42e0-a81f-6c5bf62589a7"
      },
      "execution_count": 60,
      "outputs": [
        {
          "output_type": "execute_result",
          "data": {
            "text/plain": [
              "False"
            ]
          },
          "metadata": {},
          "execution_count": 60
        }
      ]
    },
    {
      "cell_type": "code",
      "source": [
        "pocket=['paper','cellphone','money']\n",
        "if'money'in pocket:\n",
        "    print(\"택시를 타고 가라\")\n",
        "else:\n",
        "    print(\"걸어가라\")"
      ],
      "metadata": {
        "colab": {
          "base_uri": "https://localhost:8080/"
        },
        "id": "d9pwBVOZIHt7",
        "outputId": "473f383f-488f-4f81-be78-60e5ec7a2822"
      },
      "execution_count": 61,
      "outputs": [
        {
          "output_type": "stream",
          "name": "stdout",
          "text": [
            "택시를 타고 가라\n"
          ]
        }
      ]
    },
    {
      "cell_type": "code",
      "source": [
        "pocket=['paper','money','cellphone']\n",
        "if'money'in pocket:\n",
        "    pass\n",
        "else:\n",
        "   print(\"카드를 꺼내라\")"
      ],
      "metadata": {
        "id": "5J7tcQevII-X"
      },
      "execution_count": 62,
      "outputs": []
    },
    {
      "cell_type": "code",
      "source": [
        "pocket=['paper','handphone']\n",
        "card = True\n",
        "if'money'in pocket:\n",
        "   print(\"택시를 타고가라\")\n",
        "else:\n",
        "   if card:\n",
        "       print(\"택시를 타고가라\")\n",
        "   else:\n",
        "       print(\"걸어가라\")"
      ],
      "metadata": {
        "colab": {
          "base_uri": "https://localhost:8080/"
        },
        "id": "zNuUvQ8rIKKv",
        "outputId": "b9560648-b476-4164-d954-4da1a9535749"
      },
      "execution_count": 63,
      "outputs": [
        {
          "output_type": "stream",
          "name": "stdout",
          "text": [
            "택시를 타고가라\n"
          ]
        }
      ]
    },
    {
      "cell_type": "code",
      "source": [
        "pocket=['paper','cellphone']\n",
        "card = True\n",
        "if'money'in pocket:\n",
        "   print(\"택시를 타고가라\")\n",
        "elif card:\n",
        "   print(\"택시를 타고가라\")\n",
        "else:\n",
        "   print(\"걸어가라\")"
      ],
      "metadata": {
        "colab": {
          "base_uri": "https://localhost:8080/"
        },
        "id": "y9IY4bx3IL_G",
        "outputId": "4a022f29-243c-42c5-9a26-002e9c4abb80"
      },
      "execution_count": 69,
      "outputs": [
        {
          "output_type": "stream",
          "name": "stdout",
          "text": [
            "택시를 타고가라\n"
          ]
        }
      ]
    },
    {
      "cell_type": "code",
      "source": [
        "score = 70\n",
        "if score >= 60:\n",
        "     message = \"success\"\n",
        "else:\n",
        "     message = \"failure\"\n",
        "\n",
        "message = \"success\"if score >= 60 else \"failure\""
      ],
      "metadata": {
        "id": "PkB02EJ1IpVF"
      },
      "execution_count": 73,
      "outputs": []
    }
  ]
}